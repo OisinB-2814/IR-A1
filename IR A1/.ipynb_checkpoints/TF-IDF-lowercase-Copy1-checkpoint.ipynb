{
 "cells": [
  {
   "cell_type": "markdown",
   "id": "8286ef1f-9f90-414c-8b7b-ea8b45b83013",
   "metadata": {},
   "source": [
    "### Simple TF-IDF"
   ]
  },
  {
   "cell_type": "code",
   "execution_count": 197,
   "id": "087291e5-058d-4c79-986d-4ab1a5348f46",
   "metadata": {},
   "outputs": [],
   "source": [
    "import pandas as pd\n",
    "import math"
   ]
  },
  {
   "cell_type": "code",
   "execution_count": 266,
   "id": "f063b663-3676-47e1-a32e-82f8577d3cfd",
   "metadata": {},
   "outputs": [],
   "source": [
    "d1 = \"Shipment of gold damaged in a fire. Fire.\"\n",
    "d2 = \"Delivery of silver arrived in a silver truck\"\n",
    "d3 = \"Shipment of gold arrived in a truck\"\n",
    "q = \"gold silver truck\""
   ]
  },
  {
   "cell_type": "markdown",
   "id": "06aa600c-a7a4-4886-96bb-f18fd4f794b7",
   "metadata": {},
   "source": [
    "b1 = d1.split(' ')\n",
    "b2 = d2.split(' ')\n",
    "b3 = d3.split(' ')\n",
    "bq = q.split(' ')"
   ]
  },
  {
   "cell_type": "code",
   "execution_count": 267,
   "id": "763a9642-ded8-4a23-a98f-3a38b8f6ba65",
   "metadata": {},
   "outputs": [],
   "source": [
    "bagOfWordsd1 = d1.split(' ')\n",
    "bagOfWordsd2 = d2.split(' ')\n",
    "bagOfWordsd3 = d3.split(' ')\n",
    "bagOfWordsdq = q.split(' ')"
   ]
  },
  {
   "cell_type": "markdown",
   "id": "788085c9-1d7c-4b77-950c-ac138070fd23",
   "metadata": {},
   "source": [
    "bagOfWordsd1 = []\n",
    "for w in b1:\n",
    "    bagOfWordsd1.append(w.lower())\n",
    "\n",
    "bagOfWordsd2 = []\n",
    "for w in b2:\n",
    "    bagOfWordsd2.append(w.lower())\n",
    "    \n",
    "bagOfWordsd3 = []\n",
    "for w in b3:\n",
    "    bagOfWordsd3.append(w.lower())\n",
    "    \n",
    "bagOfWordsdq = []\n",
    "for w in bq:\n",
    "    bagOfWordsdq.append(w.lower())"
   ]
  },
  {
   "cell_type": "code",
   "execution_count": 268,
   "id": "6ae61840-3487-40f0-b2b8-df0ff85ccdea",
   "metadata": {},
   "outputs": [],
   "source": [
    "uniqueWords = set(bagOfWordsd1).union(set(bagOfWordsd2)).union(set(bagOfWordsd3)).union(set(bagOfWordsq))"
   ]
  },
  {
   "cell_type": "code",
   "execution_count": 269,
   "id": "139962cc-a422-4063-aace-d9fa9b13a4aa",
   "metadata": {},
   "outputs": [],
   "source": [
    "numOfWordsd1 = dict.fromkeys(uniqueWords, 0)\n",
    "\n",
    "for word in bagOfWordsd1:\n",
    "    numOfWordsd1[word] += 1\n",
    "    \n",
    "numOfWordsd2 = dict.fromkeys(uniqueWords, 0)\n",
    "\n",
    "for word in bagOfWordsd2:\n",
    "    numOfWordsd2[word] += 1\n",
    "    \n",
    "numOfWordsd3 = dict.fromkeys(uniqueWords, 0)\n",
    "\n",
    "for word in bagOfWordsd3:\n",
    "    numOfWordsd3[word] += 1\n",
    "    \n",
    "numOfWordsq = dict.fromkeys(uniqueWords, 0)\n",
    "\n",
    "for word in bagOfWordsq:\n",
    "    numOfWordsq[word] += 1"
   ]
  },
  {
   "cell_type": "code",
   "execution_count": 270,
   "id": "fbbdc9f5-cc65-4e25-8036-4e61c7a0bb7f",
   "metadata": {},
   "outputs": [
    {
     "data": {
      "text/plain": [
       "{'Fire.': 0,\n",
       " 'silver': 1,\n",
       " 'damaged': 0,\n",
       " 'fire.': 0,\n",
       " 'Shipment': 0,\n",
       " 'Delivery': 0,\n",
       " 'in': 0,\n",
       " 'truck': 1,\n",
       " 'arrived': 0,\n",
       " 'gold': 1,\n",
       " 'of': 0,\n",
       " 'a': 0}"
      ]
     },
     "execution_count": 270,
     "metadata": {},
     "output_type": "execute_result"
    }
   ],
   "source": [
    "numOfWordsq"
   ]
  },
  {
   "cell_type": "code",
   "execution_count": 271,
   "id": "f0334d7f-37fe-4c81-ba87-e94d1f76c0b1",
   "metadata": {},
   "outputs": [],
   "source": [
    "def computeTF(wordDict, bagOfWords):\n",
    "    tfDict = {}\n",
    "    bagOfWordsCount = len(bagOfWords)\n",
    "    for word, count in wordDict.items():\n",
    "        tfDict[word] = count \n",
    "    return tfDict"
   ]
  },
  {
   "cell_type": "code",
   "execution_count": 272,
   "id": "b6e79d8c-9a72-4fea-9a57-eb11b06a3f1a",
   "metadata": {},
   "outputs": [],
   "source": [
    "tfd1 = computeTF(numOfWordsd1, bagOfWordsd1)\n",
    "tfd2 = computeTF(numOfWordsd2, bagOfWordsd2)\n",
    "tfd3 = computeTF(numOfWordsd3, bagOfWordsd3)\n",
    "tfq = computeTF(numOfWordsq, bagOfWordsq)"
   ]
  },
  {
   "cell_type": "code",
   "execution_count": 273,
   "id": "e3794124-45d3-43a5-b890-ae75927cc0c4",
   "metadata": {},
   "outputs": [
    {
     "data": {
      "text/plain": [
       "{'Fire.': 1,\n",
       " 'silver': 0,\n",
       " 'damaged': 1,\n",
       " 'fire.': 1,\n",
       " 'Shipment': 1,\n",
       " 'Delivery': 0,\n",
       " 'in': 1,\n",
       " 'truck': 0,\n",
       " 'arrived': 0,\n",
       " 'gold': 1,\n",
       " 'of': 1,\n",
       " 'a': 1}"
      ]
     },
     "execution_count": 273,
     "metadata": {},
     "output_type": "execute_result"
    }
   ],
   "source": [
    "tfd1"
   ]
  },
  {
   "cell_type": "code",
   "execution_count": 274,
   "id": "c24086be-9c78-40d4-acad-fa42789fcc8c",
   "metadata": {},
   "outputs": [],
   "source": [
    "documents = [d1,d2,d3]"
   ]
  },
  {
   "cell_type": "code",
   "execution_count": 275,
   "id": "60e86523-70f2-4a3b-85f7-7e1e3ed8103d",
   "metadata": {},
   "outputs": [],
   "source": [
    "def computeIDF(documents):\n",
    "    import math\n",
    "    N = len(documents)\n",
    "    \n",
    "    idfDict = dict.fromkeys(documents[0].keys(), 0)\n",
    "    for document in documents:\n",
    "        for word, val in document.items():\n",
    "            if val > 0:\n",
    "                idfDict[word] += 1\n",
    "    \n",
    "    for word, val in idfDict.items():\n",
    "        idfDict[word] = math.log10(N / float(val))\n",
    "    return idfDict"
   ]
  },
  {
   "cell_type": "code",
   "execution_count": 276,
   "id": "c5bc9543-8249-40ac-b670-4b0337f088d5",
   "metadata": {},
   "outputs": [],
   "source": [
    "idfs = computeIDF([numOfWordsd1, numOfWordsd2, numOfWordsd3])"
   ]
  },
  {
   "cell_type": "code",
   "execution_count": 277,
   "id": "1badb84c-0702-497a-955c-45c5b64f5f4c",
   "metadata": {},
   "outputs": [
    {
     "data": {
      "text/plain": [
       "{'Fire.': 0.47712125471966244,\n",
       " 'silver': 0.47712125471966244,\n",
       " 'damaged': 0.47712125471966244,\n",
       " 'fire.': 0.47712125471966244,\n",
       " 'Shipment': 0.17609125905568124,\n",
       " 'Delivery': 0.47712125471966244,\n",
       " 'in': 0.0,\n",
       " 'truck': 0.17609125905568124,\n",
       " 'arrived': 0.17609125905568124,\n",
       " 'gold': 0.17609125905568124,\n",
       " 'of': 0.0,\n",
       " 'a': 0.0}"
      ]
     },
     "execution_count": 277,
     "metadata": {},
     "output_type": "execute_result"
    }
   ],
   "source": [
    "idfs"
   ]
  },
  {
   "cell_type": "code",
   "execution_count": 278,
   "id": "8a34efbd-61cb-4c18-b13f-415b902b7c0d",
   "metadata": {},
   "outputs": [],
   "source": [
    "def computeTFIDF(tfBagOfWords, idfs):\n",
    "    tfidf = {}\n",
    "    for word, val in tfBagOfWords.items():\n",
    "        tfidf[word] = val * idfs[word]\n",
    "    return tfidf"
   ]
  },
  {
   "cell_type": "code",
   "execution_count": 279,
   "id": "0da20322-1213-4717-885e-89017d19a65e",
   "metadata": {},
   "outputs": [],
   "source": [
    "tfidfd1 = computeTFIDF(tfd1, idfs)\n",
    "tfidfd2 = computeTFIDF(tfd2, idfs)\n",
    "tfidfd3 = computeTFIDF(tfd3, idfs)\n",
    "tfidfq = computeTFIDF(tfq, idfs)\n",
    "df = pd.DataFrame([tfidfd1, tfidfd2, tfidfd3, tfidfq])"
   ]
  },
  {
   "cell_type": "code",
   "execution_count": 280,
   "id": "12b9cd3f-1d62-4906-967a-1901e79343ac",
   "metadata": {},
   "outputs": [
    {
     "data": {
      "text/html": [
       "<div>\n",
       "<style scoped>\n",
       "    .dataframe tbody tr th:only-of-type {\n",
       "        vertical-align: middle;\n",
       "    }\n",
       "\n",
       "    .dataframe tbody tr th {\n",
       "        vertical-align: top;\n",
       "    }\n",
       "\n",
       "    .dataframe thead th {\n",
       "        text-align: right;\n",
       "    }\n",
       "</style>\n",
       "<table border=\"1\" class=\"dataframe\">\n",
       "  <thead>\n",
       "    <tr style=\"text-align: right;\">\n",
       "      <th></th>\n",
       "      <th>Fire.</th>\n",
       "      <th>silver</th>\n",
       "      <th>damaged</th>\n",
       "      <th>fire.</th>\n",
       "      <th>Shipment</th>\n",
       "      <th>Delivery</th>\n",
       "      <th>in</th>\n",
       "      <th>truck</th>\n",
       "      <th>arrived</th>\n",
       "      <th>gold</th>\n",
       "      <th>of</th>\n",
       "      <th>a</th>\n",
       "    </tr>\n",
       "  </thead>\n",
       "  <tbody>\n",
       "    <tr>\n",
       "      <th>0</th>\n",
       "      <td>0.477121</td>\n",
       "      <td>0.000000</td>\n",
       "      <td>0.477121</td>\n",
       "      <td>0.477121</td>\n",
       "      <td>0.176091</td>\n",
       "      <td>0.000000</td>\n",
       "      <td>0.0</td>\n",
       "      <td>0.000000</td>\n",
       "      <td>0.000000</td>\n",
       "      <td>0.176091</td>\n",
       "      <td>0.0</td>\n",
       "      <td>0.0</td>\n",
       "    </tr>\n",
       "    <tr>\n",
       "      <th>1</th>\n",
       "      <td>0.000000</td>\n",
       "      <td>0.954243</td>\n",
       "      <td>0.000000</td>\n",
       "      <td>0.000000</td>\n",
       "      <td>0.000000</td>\n",
       "      <td>0.477121</td>\n",
       "      <td>0.0</td>\n",
       "      <td>0.176091</td>\n",
       "      <td>0.176091</td>\n",
       "      <td>0.000000</td>\n",
       "      <td>0.0</td>\n",
       "      <td>0.0</td>\n",
       "    </tr>\n",
       "    <tr>\n",
       "      <th>2</th>\n",
       "      <td>0.000000</td>\n",
       "      <td>0.000000</td>\n",
       "      <td>0.000000</td>\n",
       "      <td>0.000000</td>\n",
       "      <td>0.176091</td>\n",
       "      <td>0.000000</td>\n",
       "      <td>0.0</td>\n",
       "      <td>0.176091</td>\n",
       "      <td>0.176091</td>\n",
       "      <td>0.176091</td>\n",
       "      <td>0.0</td>\n",
       "      <td>0.0</td>\n",
       "    </tr>\n",
       "    <tr>\n",
       "      <th>3</th>\n",
       "      <td>0.000000</td>\n",
       "      <td>0.477121</td>\n",
       "      <td>0.000000</td>\n",
       "      <td>0.000000</td>\n",
       "      <td>0.000000</td>\n",
       "      <td>0.000000</td>\n",
       "      <td>0.0</td>\n",
       "      <td>0.176091</td>\n",
       "      <td>0.000000</td>\n",
       "      <td>0.176091</td>\n",
       "      <td>0.0</td>\n",
       "      <td>0.0</td>\n",
       "    </tr>\n",
       "  </tbody>\n",
       "</table>\n",
       "</div>"
      ],
      "text/plain": [
       "      Fire.    silver   damaged     fire.  Shipment  Delivery   in     truck  \\\n",
       "0  0.477121  0.000000  0.477121  0.477121  0.176091  0.000000  0.0  0.000000   \n",
       "1  0.000000  0.954243  0.000000  0.000000  0.000000  0.477121  0.0  0.176091   \n",
       "2  0.000000  0.000000  0.000000  0.000000  0.176091  0.000000  0.0  0.176091   \n",
       "3  0.000000  0.477121  0.000000  0.000000  0.000000  0.000000  0.0  0.176091   \n",
       "\n",
       "    arrived      gold   of    a  \n",
       "0  0.000000  0.176091  0.0  0.0  \n",
       "1  0.176091  0.000000  0.0  0.0  \n",
       "2  0.176091  0.176091  0.0  0.0  \n",
       "3  0.000000  0.176091  0.0  0.0  "
      ]
     },
     "execution_count": 280,
     "metadata": {},
     "output_type": "execute_result"
    }
   ],
   "source": [
    "df"
   ]
  },
  {
   "cell_type": "code",
   "execution_count": 281,
   "id": "4f1efccd-4d07-456d-a32c-41270ac06c44",
   "metadata": {},
   "outputs": [],
   "source": [
    "import numpy as np\n",
    "d1_vec = df.values[0]\n",
    "d2_vec = df.values[1]\n",
    "d3_vec = df.values[2]\n",
    "q_vec = df.values[3]\n",
    "\n",
    "docs = [d1_vec, d2_vec, d3_vec]"
   ]
  },
  {
   "cell_type": "code",
   "execution_count": 282,
   "id": "cc7c71e9-13b3-494f-b9ad-35c3589d1972",
   "metadata": {},
   "outputs": [
    {
     "data": {
      "text/plain": [
       "array([0.        , 0.47712125, 0.        , 0.        , 0.        ,\n",
       "       0.        , 0.        , 0.17609126, 0.        , 0.17609126,\n",
       "       0.        , 0.        ])"
      ]
     },
     "execution_count": 282,
     "metadata": {},
     "output_type": "execute_result"
    }
   ],
   "source": [
    "q_vec"
   ]
  },
  {
   "cell_type": "code",
   "execution_count": 283,
   "id": "68d6940d-b4e5-4de5-abd0-4a0c71d27a2e",
   "metadata": {},
   "outputs": [],
   "source": [
    "from numpy import dot\n",
    "from numpy.linalg import norm\n",
    "\n",
    "def cos_sim(d, q):\n",
    "    return dot(d, q)/(norm(d)*norm(q))"
   ]
  },
  {
   "cell_type": "code",
   "execution_count": 284,
   "id": "e5f98725-3937-4a80-9067-61ca8fbd7918",
   "metadata": {},
   "outputs": [
    {
     "data": {
      "text/plain": [
       "0.06675241119118021"
      ]
     },
     "execution_count": 284,
     "metadata": {},
     "output_type": "execute_result"
    }
   ],
   "source": [
    "cos_sim(d1_vec, q_vec)"
   ]
  },
  {
   "cell_type": "code",
   "execution_count": 285,
   "id": "70b5fea5-86f6-408d-b993-47a0b0f8d109",
   "metadata": {},
   "outputs": [],
   "source": [
    "l = [cos_sim(d, q_vec) for d in docs]"
   ]
  },
  {
   "cell_type": "code",
   "execution_count": 286,
   "id": "646bdfb7-dea4-439f-9b55-ea07bd626419",
   "metadata": {},
   "outputs": [
    {
     "data": {
      "text/plain": [
       "[0.06675241119118021, 0.8247514231034946, 0.32718457421366]"
      ]
     },
     "execution_count": 286,
     "metadata": {},
     "output_type": "execute_result"
    }
   ],
   "source": [
    "l"
   ]
  },
  {
   "cell_type": "markdown",
   "id": "82eebdb9-a5e0-4b83-8822-66c2db62a9da",
   "metadata": {},
   "source": [
    "---"
   ]
  },
  {
   "cell_type": "markdown",
   "id": "0dd2f718-2857-4bb2-9a6b-5ca5cabbde6e",
   "metadata": {},
   "source": [
    "### Normalised TF-IDF"
   ]
  },
  {
   "cell_type": "code",
   "execution_count": null,
   "id": "6fd73482-4c5c-4744-b0b3-a776e5f2f77f",
   "metadata": {},
   "outputs": [],
   "source": []
  }
 ],
 "metadata": {
  "kernelspec": {
   "display_name": "Python 3",
   "language": "python",
   "name": "python3"
  },
  "language_info": {
   "codemirror_mode": {
    "name": "ipython",
    "version": 3
   },
   "file_extension": ".py",
   "mimetype": "text/x-python",
   "name": "python",
   "nbconvert_exporter": "python",
   "pygments_lexer": "ipython3",
   "version": "3.8.8"
  }
 },
 "nbformat": 4,
 "nbformat_minor": 5
}
