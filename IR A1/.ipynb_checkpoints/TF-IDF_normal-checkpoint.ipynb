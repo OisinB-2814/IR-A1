{
 "cells": [
  {
   "cell_type": "markdown",
   "id": "8286ef1f-9f90-414c-8b7b-ea8b45b83013",
   "metadata": {},
   "source": [
    "### Simple TF-IDF"
   ]
  },
  {
   "cell_type": "code",
   "execution_count": 152,
   "id": "087291e5-058d-4c79-986d-4ab1a5348f46",
   "metadata": {},
   "outputs": [],
   "source": [
    "import pandas as pd\n",
    "import math"
   ]
  },
  {
   "cell_type": "code",
   "execution_count": 153,
   "id": "f063b663-3676-47e1-a32e-82f8577d3cfd",
   "metadata": {},
   "outputs": [],
   "source": [
    "d1 = \"Shipment of gold damaged in a fire.\"\n",
    "d2 = \"Delivery of silver arrived in a silver truck\"\n",
    "d3 = \"Shipment of gold arrived in a truck\"\n",
    "q = \"gold silver truck\""
   ]
  },
  {
   "cell_type": "code",
   "execution_count": 154,
   "id": "2b920d49-78c8-4cfe-9fee-9462ec62c4f1",
   "metadata": {},
   "outputs": [],
   "source": [
    "bagOfWordsd1 = d1.split(' ')\n",
    "bagOfWordsd2 = d2.split(' ')\n",
    "bagOfWordsd3 = d3.split(' ')\n",
    "bagOfWordsq = q.split(' ')"
   ]
  },
  {
   "cell_type": "code",
   "execution_count": 155,
   "id": "6ae61840-3487-40f0-b2b8-df0ff85ccdea",
   "metadata": {},
   "outputs": [],
   "source": [
    "dw = set(bagOfWordsd1).union(set(bagOfWordsd2)).union(set(bagOfWordsd3)).union(set(bagOfWordsq))"
   ]
  },
  {
   "cell_type": "code",
   "execution_count": 156,
   "id": "139962cc-a422-4063-aace-d9fa9b13a4aa",
   "metadata": {},
   "outputs": [],
   "source": [
    "numOfWordsd1 = dict.fromkeys(dw, 0)\n",
    "\n",
    "for w in bagOfWordsd1:\n",
    "    numOfWordsd1[w] += 1\n",
    "    \n",
    "numOfWordsd2 = dict.fromkeys(dw, 0)\n",
    "\n",
    "for w in bagOfWordsd2:\n",
    "    numOfWordsd2[w] += 1\n",
    "    \n",
    "numOfWordsd3 = dict.fromkeys(dw, 0)\n",
    "\n",
    "for w in bagOfWordsd3:\n",
    "    numOfWordsd3[w] += 1\n",
    "    \n",
    "numOfWordsq = dict.fromkeys(dw, 0)\n",
    "\n",
    "for w in bagOfWordsq:\n",
    "    numOfWordsq[w] += 1"
   ]
  },
  {
   "cell_type": "code",
   "execution_count": 157,
   "id": "fbbdc9f5-cc65-4e25-8036-4e61c7a0bb7f",
   "metadata": {},
   "outputs": [
    {
     "data": {
      "text/plain": [
       "{'silver': 1,\n",
       " 'Shipment': 0,\n",
       " 'damaged': 0,\n",
       " 'Delivery': 0,\n",
       " 'truck': 1,\n",
       " 'fire.': 0,\n",
       " 'gold': 1,\n",
       " 'of': 0,\n",
       " 'a': 0,\n",
       " 'arrived': 0,\n",
       " 'in': 0}"
      ]
     },
     "execution_count": 157,
     "metadata": {},
     "output_type": "execute_result"
    }
   ],
   "source": [
    "numOfWordsq"
   ]
  },
  {
   "cell_type": "code",
   "execution_count": 158,
   "id": "f0334d7f-37fe-4c81-ba87-e94d1f76c0b1",
   "metadata": {},
   "outputs": [],
   "source": [
    "def TF(wordDict, bagOfWords):\n",
    "    tfDict = {}\n",
    "    bagOfWordsCount = len(bagOfWords)\n",
    "    for word, count in wordDict.items():\n",
    "        tfDict[word] = count \n",
    "    return tfDict"
   ]
  },
  {
   "cell_type": "code",
   "execution_count": 159,
   "id": "b6e79d8c-9a72-4fea-9a57-eb11b06a3f1a",
   "metadata": {},
   "outputs": [],
   "source": [
    "tfd1 = TF(numOfWordsd1, bagOfWordsd1)\n",
    "tfd2 = TF(numOfWordsd2, bagOfWordsd2)\n",
    "tfd3 = TF(numOfWordsd3, bagOfWordsd3)\n",
    "tfq = TF(numOfWordsq, bagOfWordsq)"
   ]
  },
  {
   "cell_type": "code",
   "execution_count": 160,
   "id": "e3794124-45d3-43a5-b890-ae75927cc0c4",
   "metadata": {},
   "outputs": [
    {
     "data": {
      "text/plain": [
       "{'silver': 0,\n",
       " 'Shipment': 1,\n",
       " 'damaged': 1,\n",
       " 'Delivery': 0,\n",
       " 'truck': 0,\n",
       " 'fire.': 1,\n",
       " 'gold': 1,\n",
       " 'of': 1,\n",
       " 'a': 1,\n",
       " 'arrived': 0,\n",
       " 'in': 1}"
      ]
     },
     "execution_count": 160,
     "metadata": {},
     "output_type": "execute_result"
    }
   ],
   "source": [
    "tfd1"
   ]
  },
  {
   "cell_type": "code",
   "execution_count": 161,
   "id": "c24086be-9c78-40d4-acad-fa42789fcc8c",
   "metadata": {},
   "outputs": [],
   "source": [
    "documents = [d1,d2,d3]"
   ]
  },
  {
   "cell_type": "code",
   "execution_count": 162,
   "id": "60e86523-70f2-4a3b-85f7-7e1e3ed8103d",
   "metadata": {},
   "outputs": [],
   "source": [
    "def computeIDF(documents):\n",
    "    import math\n",
    "    N = len(documents)\n",
    "    \n",
    "    idfDict = dict.fromkeys(documents[0].keys(), 0)\n",
    "    for document in documents:\n",
    "        for word, val in document.items():\n",
    "            if val > 0:\n",
    "                idfDict[word] += 1\n",
    "    \n",
    "    for word, val in idfDict.items():\n",
    "        idfDict[word] = math.log10(N / float(val))\n",
    "    return idfDict"
   ]
  },
  {
   "cell_type": "code",
   "execution_count": 163,
   "id": "c5bc9543-8249-40ac-b670-4b0337f088d5",
   "metadata": {},
   "outputs": [],
   "source": [
    "idfs = computeIDF([numOfWordsd1, numOfWordsd2, numOfWordsd3])"
   ]
  },
  {
   "cell_type": "code",
   "execution_count": 164,
   "id": "1badb84c-0702-497a-955c-45c5b64f5f4c",
   "metadata": {},
   "outputs": [
    {
     "data": {
      "text/plain": [
       "{'silver': 0.47712125471966244,\n",
       " 'Shipment': 0.17609125905568124,\n",
       " 'damaged': 0.47712125471966244,\n",
       " 'Delivery': 0.47712125471966244,\n",
       " 'truck': 0.17609125905568124,\n",
       " 'fire.': 0.47712125471966244,\n",
       " 'gold': 0.17609125905568124,\n",
       " 'of': 0.0,\n",
       " 'a': 0.0,\n",
       " 'arrived': 0.17609125905568124,\n",
       " 'in': 0.0}"
      ]
     },
     "execution_count": 164,
     "metadata": {},
     "output_type": "execute_result"
    }
   ],
   "source": [
    "idfs"
   ]
  },
  {
   "cell_type": "code",
   "execution_count": 165,
   "id": "8a34efbd-61cb-4c18-b13f-415b902b7c0d",
   "metadata": {},
   "outputs": [],
   "source": [
    "def TFIDF(tfBagOfWords, idfs):\n",
    "    tfidf = {}\n",
    "    for word, val in tfBagOfWords.items():\n",
    "        tfidf[word] = val * idfs[word]\n",
    "    return tfidf"
   ]
  },
  {
   "cell_type": "code",
   "execution_count": 166,
   "id": "0da20322-1213-4717-885e-89017d19a65e",
   "metadata": {},
   "outputs": [],
   "source": [
    "tfidfd1 = TFIDF(tfd1, idfs)\n",
    "tfidfd2 = TFIDF(tfd2, idfs)\n",
    "tfidfd3 = TFIDF(tfd3, idfs)\n",
    "tfidfq = TFIDF(tfq, idfs)\n",
    "df = pd.DataFrame([tfidfd1, tfidfd2, tfidfd3, tfidfq])"
   ]
  },
  {
   "cell_type": "code",
   "execution_count": 167,
   "id": "12b9cd3f-1d62-4906-967a-1901e79343ac",
   "metadata": {},
   "outputs": [
    {
     "data": {
      "text/html": [
       "<div>\n",
       "<style scoped>\n",
       "    .dataframe tbody tr th:only-of-type {\n",
       "        vertical-align: middle;\n",
       "    }\n",
       "\n",
       "    .dataframe tbody tr th {\n",
       "        vertical-align: top;\n",
       "    }\n",
       "\n",
       "    .dataframe thead th {\n",
       "        text-align: right;\n",
       "    }\n",
       "</style>\n",
       "<table border=\"1\" class=\"dataframe\">\n",
       "  <thead>\n",
       "    <tr style=\"text-align: right;\">\n",
       "      <th></th>\n",
       "      <th>silver</th>\n",
       "      <th>Shipment</th>\n",
       "      <th>damaged</th>\n",
       "      <th>Delivery</th>\n",
       "      <th>truck</th>\n",
       "      <th>fire.</th>\n",
       "      <th>gold</th>\n",
       "      <th>of</th>\n",
       "      <th>a</th>\n",
       "      <th>arrived</th>\n",
       "      <th>in</th>\n",
       "    </tr>\n",
       "  </thead>\n",
       "  <tbody>\n",
       "    <tr>\n",
       "      <th>0</th>\n",
       "      <td>0.000000</td>\n",
       "      <td>0.176091</td>\n",
       "      <td>0.477121</td>\n",
       "      <td>0.000000</td>\n",
       "      <td>0.000000</td>\n",
       "      <td>0.477121</td>\n",
       "      <td>0.176091</td>\n",
       "      <td>0.0</td>\n",
       "      <td>0.0</td>\n",
       "      <td>0.000000</td>\n",
       "      <td>0.0</td>\n",
       "    </tr>\n",
       "    <tr>\n",
       "      <th>1</th>\n",
       "      <td>0.954243</td>\n",
       "      <td>0.000000</td>\n",
       "      <td>0.000000</td>\n",
       "      <td>0.477121</td>\n",
       "      <td>0.176091</td>\n",
       "      <td>0.000000</td>\n",
       "      <td>0.000000</td>\n",
       "      <td>0.0</td>\n",
       "      <td>0.0</td>\n",
       "      <td>0.176091</td>\n",
       "      <td>0.0</td>\n",
       "    </tr>\n",
       "    <tr>\n",
       "      <th>2</th>\n",
       "      <td>0.000000</td>\n",
       "      <td>0.176091</td>\n",
       "      <td>0.000000</td>\n",
       "      <td>0.000000</td>\n",
       "      <td>0.176091</td>\n",
       "      <td>0.000000</td>\n",
       "      <td>0.176091</td>\n",
       "      <td>0.0</td>\n",
       "      <td>0.0</td>\n",
       "      <td>0.176091</td>\n",
       "      <td>0.0</td>\n",
       "    </tr>\n",
       "    <tr>\n",
       "      <th>3</th>\n",
       "      <td>0.477121</td>\n",
       "      <td>0.000000</td>\n",
       "      <td>0.000000</td>\n",
       "      <td>0.000000</td>\n",
       "      <td>0.176091</td>\n",
       "      <td>0.000000</td>\n",
       "      <td>0.176091</td>\n",
       "      <td>0.0</td>\n",
       "      <td>0.0</td>\n",
       "      <td>0.000000</td>\n",
       "      <td>0.0</td>\n",
       "    </tr>\n",
       "  </tbody>\n",
       "</table>\n",
       "</div>"
      ],
      "text/plain": [
       "     silver  Shipment   damaged  Delivery     truck     fire.      gold   of  \\\n",
       "0  0.000000  0.176091  0.477121  0.000000  0.000000  0.477121  0.176091  0.0   \n",
       "1  0.954243  0.000000  0.000000  0.477121  0.176091  0.000000  0.000000  0.0   \n",
       "2  0.000000  0.176091  0.000000  0.000000  0.176091  0.000000  0.176091  0.0   \n",
       "3  0.477121  0.000000  0.000000  0.000000  0.176091  0.000000  0.176091  0.0   \n",
       "\n",
       "     a   arrived   in  \n",
       "0  0.0  0.000000  0.0  \n",
       "1  0.0  0.176091  0.0  \n",
       "2  0.0  0.176091  0.0  \n",
       "3  0.0  0.000000  0.0  "
      ]
     },
     "execution_count": 167,
     "metadata": {},
     "output_type": "execute_result"
    }
   ],
   "source": [
    "df"
   ]
  },
  {
   "cell_type": "code",
   "execution_count": 168,
   "id": "4f1efccd-4d07-456d-a32c-41270ac06c44",
   "metadata": {},
   "outputs": [],
   "source": [
    "import numpy as np\n",
    "d1_vec = df.values[0]\n",
    "d2_vec = df.values[1]\n",
    "d3_vec = df.values[2]\n",
    "q_vec = df.values[3]\n",
    "\n",
    "docs = [d1_vec, d2_vec, d3_vec]"
   ]
  },
  {
   "cell_type": "code",
   "execution_count": 169,
   "id": "cc7c71e9-13b3-494f-b9ad-35c3589d1972",
   "metadata": {},
   "outputs": [
    {
     "data": {
      "text/plain": [
       "array([0.47712125, 0.        , 0.        , 0.        , 0.17609126,\n",
       "       0.        , 0.17609126, 0.        , 0.        , 0.        ,\n",
       "       0.        ])"
      ]
     },
     "execution_count": 169,
     "metadata": {},
     "output_type": "execute_result"
    }
   ],
   "source": [
    "q_vec"
   ]
  },
  {
   "cell_type": "code",
   "execution_count": 170,
   "id": "68d6940d-b4e5-4de5-abd0-4a0c71d27a2e",
   "metadata": {},
   "outputs": [],
   "source": [
    "from numpy import dot\n",
    "from numpy.linalg import norm\n",
    "\n",
    "def cos_sim(d, q):\n",
    "    return dot(d, q)/(norm(d)*norm(q))"
   ]
  },
  {
   "cell_type": "code",
   "execution_count": 171,
   "id": "e5f98725-3937-4a80-9067-61ca8fbd7918",
   "metadata": {},
   "outputs": [
    {
     "data": {
      "text/plain": [
       "0.08010451753994625"
      ]
     },
     "execution_count": 171,
     "metadata": {},
     "output_type": "execute_result"
    }
   ],
   "source": [
    "cos_sim(d1_vec, q_vec)"
   ]
  },
  {
   "cell_type": "code",
   "execution_count": 172,
   "id": "70b5fea5-86f6-408d-b993-47a0b0f8d109",
   "metadata": {},
   "outputs": [],
   "source": [
    "l = [cos_sim(d, q_vec) for d in docs]"
   ]
  },
  {
   "cell_type": "code",
   "execution_count": 173,
   "id": "646bdfb7-dea4-439f-9b55-ea07bd626419",
   "metadata": {},
   "outputs": [
    {
     "data": {
      "text/plain": [
       "[0.08010451753994625, 0.8247514231034946, 0.32718457421366]"
      ]
     },
     "execution_count": 173,
     "metadata": {},
     "output_type": "execute_result"
    }
   ],
   "source": [
    "l"
   ]
  },
  {
   "cell_type": "markdown",
   "id": "82eebdb9-a5e0-4b83-8822-66c2db62a9da",
   "metadata": {},
   "source": [
    "---"
   ]
  },
  {
   "cell_type": "markdown",
   "id": "0dd2f718-2857-4bb2-9a6b-5ca5cabbde6e",
   "metadata": {},
   "source": [
    "### Scoring of TF-IDF"
   ]
  },
  {
   "cell_type": "markdown",
   "id": "75e25d39-5f4a-434d-975c-42a2dc650eee",
   "metadata": {},
   "source": [
    "- The score if we have $d_1$ as normal: $0.08$\n",
    "- The score if we have $d_1$ as extra Fire using lowercase: 0.05\n",
    "- The score if we have $d_1$ as extra Fire using normal: 0.07\n",
    "- The score if we have $d_1$ as 2 extra Fire using lowercase: 0.04\n",
    "- The score if we have $d_1$ as 2 extra Fire using normal: 0.05\n",
    "- The score if we have $d_1$ as extra Gold using lowercase: 0.07\n",
    "- The score if we have $d_1$ as extra Gold using normal: 0.07\n",
    "- The score if we have $d_1$ as 2 extra Gold using lowercase: 0.05\n",
    "- The score if we have $d_1$ as 2 extra Gold using normal: 0.05"
   ]
  },
  {
   "cell_type": "code",
   "execution_count": null,
   "id": "9c181124-e3d8-4360-9db9-bc51c14aca77",
   "metadata": {},
   "outputs": [],
   "source": []
  }
 ],
 "metadata": {
  "kernelspec": {
   "display_name": "Python 3",
   "language": "python",
   "name": "python3"
  },
  "language_info": {
   "codemirror_mode": {
    "name": "ipython",
    "version": 3
   },
   "file_extension": ".py",
   "mimetype": "text/x-python",
   "name": "python",
   "nbconvert_exporter": "python",
   "pygments_lexer": "ipython3",
   "version": "3.8.8"
  }
 },
 "nbformat": 4,
 "nbformat_minor": 5
}
