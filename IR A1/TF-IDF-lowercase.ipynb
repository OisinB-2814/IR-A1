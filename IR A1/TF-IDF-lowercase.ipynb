{
 "cells": [
  {
   "cell_type": "markdown",
   "id": "8286ef1f-9f90-414c-8b7b-ea8b45b83013",
   "metadata": {},
   "source": [
    "### Simple TF-IDF"
   ]
  },
  {
   "cell_type": "code",
   "execution_count": 1,
   "id": "087291e5-058d-4c79-986d-4ab1a5348f46",
   "metadata": {},
   "outputs": [],
   "source": [
    "import pandas as pd\n",
    "import math\n",
    "from numpy import dot\n",
    "from numpy.linalg import norm"
   ]
  },
  {
   "cell_type": "code",
   "execution_count": 2,
   "id": "f063b663-3676-47e1-a32e-82f8577d3cfd",
   "metadata": {},
   "outputs": [],
   "source": [
    "d1 = \"Shipment of gold damaged in a fire.\"\n",
    "d2 = \"Delivery of silver arrived in a silver truck\"\n",
    "d3 = \"Shipment of gold arrived in a truck\"\n",
    "q = \"gold silver truck\"\n",
    "\n",
    "documents = [d1, d2, d3]"
   ]
  },
  {
   "cell_type": "code",
   "execution_count": 3,
   "id": "dc1c7edf-be2c-4571-9585-e247176ee100",
   "metadata": {},
   "outputs": [],
   "source": [
    "b1 = d1.split(' ')\n",
    "b2 = d2.split(' ')\n",
    "b3 = d3.split(' ')\n",
    "bq = q.split(' ')"
   ]
  },
  {
   "cell_type": "code",
   "execution_count": 4,
   "id": "c9f86fa6-4b9a-41b1-b669-dd95db0a14fb",
   "metadata": {},
   "outputs": [],
   "source": [
    "bowd1 = []\n",
    "for w in b1:\n",
    "    bowd1.append(w.lower())\n",
    "\n",
    "bowd2 = []\n",
    "for w in b2:\n",
    "    bowd2.append(w.lower())\n",
    "    \n",
    "bowd3 = []\n",
    "for w in b3:\n",
    "    bowd3.append(w.lower())\n",
    "    \n",
    "bowq = []\n",
    "for w in bq:\n",
    "    bowq.append(w.lower())"
   ]
  },
  {
   "cell_type": "code",
   "execution_count": 5,
   "id": "6ae61840-3487-40f0-b2b8-df0ff85ccdea",
   "metadata": {},
   "outputs": [],
   "source": [
    "dw = set(bowd1).union(set(bowd2)).union(set(bowd3)).union(set(bowq))"
   ]
  },
  {
   "cell_type": "code",
   "execution_count": 6,
   "id": "a0acd4e2-1390-4b09-a878-2200fa811f3d",
   "metadata": {},
   "outputs": [
    {
     "data": {
      "text/plain": [
       "{'a',\n",
       " 'arrived',\n",
       " 'damaged',\n",
       " 'delivery',\n",
       " 'fire.',\n",
       " 'gold',\n",
       " 'in',\n",
       " 'of',\n",
       " 'shipment',\n",
       " 'silver',\n",
       " 'truck'}"
      ]
     },
     "execution_count": 6,
     "metadata": {},
     "output_type": "execute_result"
    }
   ],
   "source": [
    "dw"
   ]
  },
  {
   "cell_type": "code",
   "execution_count": 7,
   "id": "139962cc-a422-4063-aace-d9fa9b13a4aa",
   "metadata": {},
   "outputs": [],
   "source": [
    "nowd1 = dict.fromkeys(dw, 0)\n",
    "\n",
    "for w in bowd1:\n",
    "    nowd1[w] += 1\n",
    "    \n",
    "nowd2 = dict.fromkeys(dw, 0)\n",
    "\n",
    "for w in bowd2:\n",
    "    nowd2[w] += 1\n",
    "    \n",
    "nowd3 = dict.fromkeys(dw, 0)\n",
    "\n",
    "for w in bowd3:\n",
    "    nowd3[w] += 1\n",
    "    \n",
    "nowq = dict.fromkeys(dw, 0)\n",
    "\n",
    "for w in bowq:\n",
    "    nowq[w] += 1"
   ]
  },
  {
   "cell_type": "code",
   "execution_count": 8,
   "id": "fbbdc9f5-cc65-4e25-8036-4e61c7a0bb7f",
   "metadata": {},
   "outputs": [
    {
     "data": {
      "text/plain": [
       "{'delivery': 0,\n",
       " 'fire.': 0,\n",
       " 'of': 0,\n",
       " 'arrived': 0,\n",
       " 'in': 0,\n",
       " 'a': 0,\n",
       " 'damaged': 0,\n",
       " 'shipment': 0,\n",
       " 'gold': 1,\n",
       " 'silver': 1,\n",
       " 'truck': 1}"
      ]
     },
     "execution_count": 8,
     "metadata": {},
     "output_type": "execute_result"
    }
   ],
   "source": [
    "nowq"
   ]
  },
  {
   "cell_type": "code",
   "execution_count": 9,
   "id": "f0334d7f-37fe-4c81-ba87-e94d1f76c0b1",
   "metadata": {},
   "outputs": [],
   "source": [
    "def TF(wd, bow):\n",
    "    tf = {}\n",
    "    bowCount = len(bow)\n",
    "    for w, count in wd.items():\n",
    "        tf[w] = count \n",
    "    return tf"
   ]
  },
  {
   "cell_type": "code",
   "execution_count": 10,
   "id": "b6e79d8c-9a72-4fea-9a57-eb11b06a3f1a",
   "metadata": {},
   "outputs": [],
   "source": [
    "tfd1 = TF(nowd1, bowd1)\n",
    "tfd2 = TF(nowd2, bowd2)\n",
    "tfd3 = TF(nowd3, bowd3)\n",
    "tfq = TF(nowq, bowq)"
   ]
  },
  {
   "cell_type": "code",
   "execution_count": 11,
   "id": "e3794124-45d3-43a5-b890-ae75927cc0c4",
   "metadata": {},
   "outputs": [
    {
     "data": {
      "text/plain": [
       "{'delivery': 0,\n",
       " 'fire.': 1,\n",
       " 'of': 1,\n",
       " 'arrived': 0,\n",
       " 'in': 1,\n",
       " 'a': 1,\n",
       " 'damaged': 1,\n",
       " 'shipment': 1,\n",
       " 'gold': 1,\n",
       " 'silver': 0,\n",
       " 'truck': 0}"
      ]
     },
     "execution_count": 11,
     "metadata": {},
     "output_type": "execute_result"
    }
   ],
   "source": [
    "tfd1"
   ]
  },
  {
   "cell_type": "code",
   "execution_count": 12,
   "id": "c24086be-9c78-40d4-acad-fa42789fcc8c",
   "metadata": {},
   "outputs": [],
   "source": [
    "documents = [d1,d2,d3]"
   ]
  },
  {
   "cell_type": "code",
   "execution_count": 13,
   "id": "60e86523-70f2-4a3b-85f7-7e1e3ed8103d",
   "metadata": {},
   "outputs": [],
   "source": [
    "def IDF(documents):\n",
    "    import math\n",
    "    N = len(documents)\n",
    "    \n",
    "    idfDict = dict.fromkeys(documents[0].keys(), 0)\n",
    "    for document in documents:\n",
    "        for word, val in document.items():\n",
    "            if val > 0:\n",
    "                idfDict[word] += 1\n",
    "    \n",
    "    for word, val in idfDict.items():\n",
    "        idfDict[word] = math.log10(N / float(val))\n",
    "    return idfDict"
   ]
  },
  {
   "cell_type": "code",
   "execution_count": 14,
   "id": "c5bc9543-8249-40ac-b670-4b0337f088d5",
   "metadata": {},
   "outputs": [],
   "source": [
    "idf_dict = IDF([nowd1, nowd2, nowd3])"
   ]
  },
  {
   "cell_type": "code",
   "execution_count": 15,
   "id": "1badb84c-0702-497a-955c-45c5b64f5f4c",
   "metadata": {},
   "outputs": [
    {
     "data": {
      "text/plain": [
       "{'delivery': 0.47712125471966244,\n",
       " 'fire.': 0.47712125471966244,\n",
       " 'of': 0.0,\n",
       " 'arrived': 0.17609125905568124,\n",
       " 'in': 0.0,\n",
       " 'a': 0.0,\n",
       " 'damaged': 0.47712125471966244,\n",
       " 'shipment': 0.17609125905568124,\n",
       " 'gold': 0.17609125905568124,\n",
       " 'silver': 0.47712125471966244,\n",
       " 'truck': 0.17609125905568124}"
      ]
     },
     "execution_count": 15,
     "metadata": {},
     "output_type": "execute_result"
    }
   ],
   "source": [
    "idf_dict"
   ]
  },
  {
   "cell_type": "code",
   "execution_count": 16,
   "id": "8a34efbd-61cb-4c18-b13f-415b902b7c0d",
   "metadata": {},
   "outputs": [],
   "source": [
    "def TFIDF(tfbow, idf_dict):\n",
    "    tfidf = {}\n",
    "    for word, val in tfbow.items():\n",
    "        tfidf[word] = val * idf_dict[word]\n",
    "    return tfidf"
   ]
  },
  {
   "cell_type": "code",
   "execution_count": 17,
   "id": "0da20322-1213-4717-885e-89017d19a65e",
   "metadata": {},
   "outputs": [],
   "source": [
    "tfidfd1 = TFIDF(tfd1, idf_dict)\n",
    "tfidfd2 = TFIDF(tfd2, idf_dict)\n",
    "tfidfd3 = TFIDF(tfd3, idf_dict)\n",
    "tfidfq = TFIDF(tfq, idf_dict)\n",
    "df = pd.DataFrame([tfidfd1, tfidfd2, tfidfd3, tfidfq])"
   ]
  },
  {
   "cell_type": "code",
   "execution_count": 18,
   "id": "12b9cd3f-1d62-4906-967a-1901e79343ac",
   "metadata": {},
   "outputs": [
    {
     "data": {
      "text/html": [
       "<div>\n",
       "<style scoped>\n",
       "    .dataframe tbody tr th:only-of-type {\n",
       "        vertical-align: middle;\n",
       "    }\n",
       "\n",
       "    .dataframe tbody tr th {\n",
       "        vertical-align: top;\n",
       "    }\n",
       "\n",
       "    .dataframe thead th {\n",
       "        text-align: right;\n",
       "    }\n",
       "</style>\n",
       "<table border=\"1\" class=\"dataframe\">\n",
       "  <thead>\n",
       "    <tr style=\"text-align: right;\">\n",
       "      <th></th>\n",
       "      <th>delivery</th>\n",
       "      <th>fire.</th>\n",
       "      <th>of</th>\n",
       "      <th>arrived</th>\n",
       "      <th>in</th>\n",
       "      <th>a</th>\n",
       "      <th>damaged</th>\n",
       "      <th>shipment</th>\n",
       "      <th>gold</th>\n",
       "      <th>silver</th>\n",
       "      <th>truck</th>\n",
       "    </tr>\n",
       "  </thead>\n",
       "  <tbody>\n",
       "    <tr>\n",
       "      <th>0</th>\n",
       "      <td>0.000000</td>\n",
       "      <td>0.477121</td>\n",
       "      <td>0.0</td>\n",
       "      <td>0.000000</td>\n",
       "      <td>0.0</td>\n",
       "      <td>0.0</td>\n",
       "      <td>0.477121</td>\n",
       "      <td>0.176091</td>\n",
       "      <td>0.176091</td>\n",
       "      <td>0.000000</td>\n",
       "      <td>0.000000</td>\n",
       "    </tr>\n",
       "    <tr>\n",
       "      <th>1</th>\n",
       "      <td>0.477121</td>\n",
       "      <td>0.000000</td>\n",
       "      <td>0.0</td>\n",
       "      <td>0.176091</td>\n",
       "      <td>0.0</td>\n",
       "      <td>0.0</td>\n",
       "      <td>0.000000</td>\n",
       "      <td>0.000000</td>\n",
       "      <td>0.000000</td>\n",
       "      <td>0.954243</td>\n",
       "      <td>0.176091</td>\n",
       "    </tr>\n",
       "    <tr>\n",
       "      <th>2</th>\n",
       "      <td>0.000000</td>\n",
       "      <td>0.000000</td>\n",
       "      <td>0.0</td>\n",
       "      <td>0.176091</td>\n",
       "      <td>0.0</td>\n",
       "      <td>0.0</td>\n",
       "      <td>0.000000</td>\n",
       "      <td>0.176091</td>\n",
       "      <td>0.176091</td>\n",
       "      <td>0.000000</td>\n",
       "      <td>0.176091</td>\n",
       "    </tr>\n",
       "    <tr>\n",
       "      <th>3</th>\n",
       "      <td>0.000000</td>\n",
       "      <td>0.000000</td>\n",
       "      <td>0.0</td>\n",
       "      <td>0.000000</td>\n",
       "      <td>0.0</td>\n",
       "      <td>0.0</td>\n",
       "      <td>0.000000</td>\n",
       "      <td>0.000000</td>\n",
       "      <td>0.176091</td>\n",
       "      <td>0.477121</td>\n",
       "      <td>0.176091</td>\n",
       "    </tr>\n",
       "  </tbody>\n",
       "</table>\n",
       "</div>"
      ],
      "text/plain": [
       "   delivery     fire.   of   arrived   in    a   damaged  shipment      gold  \\\n",
       "0  0.000000  0.477121  0.0  0.000000  0.0  0.0  0.477121  0.176091  0.176091   \n",
       "1  0.477121  0.000000  0.0  0.176091  0.0  0.0  0.000000  0.000000  0.000000   \n",
       "2  0.000000  0.000000  0.0  0.176091  0.0  0.0  0.000000  0.176091  0.176091   \n",
       "3  0.000000  0.000000  0.0  0.000000  0.0  0.0  0.000000  0.000000  0.176091   \n",
       "\n",
       "     silver     truck  \n",
       "0  0.000000  0.000000  \n",
       "1  0.954243  0.176091  \n",
       "2  0.000000  0.176091  \n",
       "3  0.477121  0.176091  "
      ]
     },
     "execution_count": 18,
     "metadata": {},
     "output_type": "execute_result"
    }
   ],
   "source": [
    "df"
   ]
  },
  {
   "cell_type": "code",
   "execution_count": 19,
   "id": "4f1efccd-4d07-456d-a32c-41270ac06c44",
   "metadata": {},
   "outputs": [],
   "source": [
    "import numpy as np\n",
    "d1_vec = df.values[0]\n",
    "d2_vec = df.values[1]\n",
    "d3_vec = df.values[2]\n",
    "q_vec = df.values[3]\n",
    "\n",
    "docs = [d1_vec, d2_vec, d3_vec]"
   ]
  },
  {
   "cell_type": "code",
   "execution_count": 20,
   "id": "cc7c71e9-13b3-494f-b9ad-35c3589d1972",
   "metadata": {},
   "outputs": [
    {
     "data": {
      "text/plain": [
       "array([0.        , 0.        , 0.        , 0.        , 0.        ,\n",
       "       0.        , 0.        , 0.        , 0.17609126, 0.47712125,\n",
       "       0.17609126])"
      ]
     },
     "execution_count": 20,
     "metadata": {},
     "output_type": "execute_result"
    }
   ],
   "source": [
    "q_vec"
   ]
  },
  {
   "cell_type": "code",
   "execution_count": 21,
   "id": "68d6940d-b4e5-4de5-abd0-4a0c71d27a2e",
   "metadata": {},
   "outputs": [],
   "source": [
    "def cos_sim(d, q):\n",
    "    return dot(d, q)/(norm(d)*norm(q))"
   ]
  },
  {
   "cell_type": "code",
   "execution_count": 22,
   "id": "e5f98725-3937-4a80-9067-61ca8fbd7918",
   "metadata": {},
   "outputs": [
    {
     "data": {
      "text/plain": [
       "0.08010451753994625"
      ]
     },
     "execution_count": 22,
     "metadata": {},
     "output_type": "execute_result"
    }
   ],
   "source": [
    "cos_sim(d1_vec, q_vec)"
   ]
  },
  {
   "cell_type": "code",
   "execution_count": 23,
   "id": "70b5fea5-86f6-408d-b993-47a0b0f8d109",
   "metadata": {},
   "outputs": [
    {
     "data": {
      "text/plain": [
       "[0.08010451753994625, 0.8247514231034946, 0.32718457421366]"
      ]
     },
     "execution_count": 23,
     "metadata": {},
     "output_type": "execute_result"
    }
   ],
   "source": [
    "l = [cos_sim(d, q_vec) for d in docs]\n",
    "l"
   ]
  },
  {
   "cell_type": "code",
   "execution_count": 24,
   "id": "646bdfb7-dea4-439f-9b55-ea07bd626419",
   "metadata": {},
   "outputs": [
    {
     "name": "stdout",
     "output_type": "stream",
     "text": [
      "0.08\n",
      "0.82\n",
      "0.33\n"
     ]
    }
   ],
   "source": [
    "for i in l:\n",
    "    print(round(i, 2))"
   ]
  },
  {
   "cell_type": "markdown",
   "id": "82eebdb9-a5e0-4b83-8822-66c2db62a9da",
   "metadata": {},
   "source": [
    "---"
   ]
  },
  {
   "cell_type": "markdown",
   "id": "0dd2f718-2857-4bb2-9a6b-5ca5cabbde6e",
   "metadata": {},
   "source": [
    "### Normalised TF-IDF"
   ]
  },
  {
   "cell_type": "markdown",
   "id": "c5997dc5-47a4-47e2-8160-40ef96dab765",
   "metadata": {},
   "source": [
    "- The score if we have $d_1$ as normal: $0.08$\n",
    "- The score if we have $d_1$ as extra Fire using lowercase: $0.05$\n",
    "- The score if we have $d_1$ as extra Fire using normal: $0.07$\n",
    "- The score if we have $d_1$ as 2 extra Fire using lowercase: $0.04$\n",
    "- The score if we have $d_1$ as 2 extra Fire using normal: $0.05$\n",
    "- The score if we have $d_1$ as extra Gold using lowercase: $0.07$\n",
    "- The score if we have $d_1$ as extra Gold using normal: $0.07$\n",
    "- The score if we have $d_1$ as 2 extra Gold using lowercase: $0.05$\n",
    "- The score if we have $d_1$ as 2 extra Gold using normal: $0.05$."
   ]
  }
 ],
 "metadata": {
  "interpreter": {
   "hash": "85d211dbb0d3986ffde4e0248235d817e6f1ddf822ec7a23401bde740aa3945d"
  },
  "kernelspec": {
   "display_name": "Python 3.9.7 64-bit ('cust_seg1': conda)",
   "name": "python3"
  },
  "language_info": {
   "codemirror_mode": {
    "name": "ipython",
    "version": 3
   },
   "file_extension": ".py",
   "mimetype": "text/x-python",
   "name": "python",
   "nbconvert_exporter": "python",
   "pygments_lexer": "ipython3",
   "version": "3.9.7"
  }
 },
 "nbformat": 4,
 "nbformat_minor": 5
}
